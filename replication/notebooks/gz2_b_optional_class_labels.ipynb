{
 "cells": [
  {
   "cell_type": "code",
   "execution_count": 37,
   "metadata": {},
   "outputs": [
    {
     "name": "stdout",
     "output_type": "stream",
     "text": [
      "The autoreload extension is already loaded. To reload it, use:\n",
      "  %reload_ext autoreload\n"
     ]
    }
   ],
   "source": [
    "%load_ext autoreload\n",
    "%autoreload 2"
   ]
  },
  {
   "cell_type": "code",
   "execution_count": 38,
   "metadata": {},
   "outputs": [],
   "source": [
    "# https://github.com/mwalmsley/curation-datasets/blob/main/notebooks/curation_friendly_gz2_catalog.ipynb\n",
    "# gz2 with class labels\n",
    "# (also exists for decals)"
   ]
  },
  {
   "cell_type": "code",
   "execution_count": 39,
   "metadata": {},
   "outputs": [],
   "source": [
    "import os\n",
    "\n",
    "import pandas as pd\n",
    "import numpy as np\n",
    "import matplotlib.pyplot as plt\n",
    "import seaborn as sns\n",
    "sns.set_context('notebook')\n",
    "\n",
    "from zoobot.shared import label_metadata, schemas"
   ]
  },
  {
   "cell_type": "code",
   "execution_count": 40,
   "metadata": {},
   "outputs": [],
   "source": [
    "\n",
    "\n",
    "question_answer_pairs = label_metadata.gz2_ortho_pairs\n",
    "dependencies = label_metadata.gz2_ortho_dependencies\n",
    "schema = schemas.Schema(question_answer_pairs, dependencies)\n",
    "\n"
   ]
  },
  {
   "cell_type": "code",
   "execution_count": 41,
   "metadata": {},
   "outputs": [
    {
     "data": {
      "text/plain": [
       "0         J115610.44+603129.9\n",
       "1         J090020.70+522934.0\n",
       "2         J121329.27+504429.3\n",
       "3         J122500.43+283330.9\n",
       "4         J104420.73+140504.0\n",
       "                 ...         \n",
       "209288    J121357.95+320704.3\n",
       "209289    J110940.91+184308.1\n",
       "209290    J144036.27+033219.3\n",
       "209291    J075224.88+233028.6\n",
       "209292    J113354.76+283724.1\n",
       "Name: iauname, Length: 209293, dtype: object"
      ]
     },
     "execution_count": 41,
     "metadata": {},
     "output_type": "execute_result"
    }
   ],
   "source": [
    "temp = pd.read_parquet('/run/media/walml/beta/galaxy_zoo/gz2/subjects/gz2_catalog_with_modern_schema.parquet')\n",
    "# temp['iauname']"
   ]
  },
  {
   "cell_type": "code",
   "execution_count": 42,
   "metadata": {},
   "outputs": [],
   "source": [
    "df = pd.read_parquet('/run/media/walml/beta/galaxy_zoo/gz2/subjects/gz2_catalog_with_modern_schema.parquet')"
   ]
  },
  {
   "cell_type": "code",
   "execution_count": 43,
   "metadata": {},
   "outputs": [
    {
     "data": {
      "text/plain": [
       "209293"
      ]
     },
     "execution_count": 43,
     "metadata": {},
     "output_type": "execute_result"
    }
   ],
   "source": [
    "len(df)"
   ]
  },
  {
   "cell_type": "code",
   "execution_count": 44,
   "metadata": {},
   "outputs": [],
   "source": [
    "# adapted from https://github.com/mwalmsley/galaxy_mnist/blob/main/reproduce/consider_classes.ipynb\n",
    "\n",
    "def get_question_semantic_label(galaxy, question, min_relevance_threshold=0.5, min_confidence_threshold=0.5):\n",
    "    \n",
    "    if question.asked_after is not None:\n",
    "        # at least ``min_relevance_threshold`` of volunteers must have gone down this path, else consider unknown (-)\n",
    "        has_enough_answers = galaxy[question.asked_after.text] > galaxy['smooth-or-featured-gz2_total-votes'] * min_relevance_threshold\n",
    "        if not has_enough_answers:\n",
    "            return '-'\n",
    "    \n",
    "    answer_cols = [a.text for a in question.answers]\n",
    "    \n",
    "    # check for deadlock\n",
    "    sorted_answers = np.sort(galaxy[answer_cols])  # ascending\n",
    "    if sorted_answers[-1] == sorted_answers[-2]:\n",
    "        return 'deadlock'\n",
    "\n",
    "    highest_conf_answer = np.argmax(galaxy[answer_cols])  # if tiebreak, will default to the first\n",
    "    # of the volunteers who did go down this path, at least min_confidence_threshold must have given this answer\n",
    "    if galaxy[answer_cols[highest_conf_answer] + '_fraction'] > min_confidence_threshold:\n",
    "        return answer_cols[highest_conf_answer]\n",
    "    else:\n",
    "        return 'unclear'\n",
    "\n"
   ]
  },
  {
   "cell_type": "code",
   "execution_count": 45,
   "metadata": {},
   "outputs": [
    {
     "name": "stdout",
     "output_type": "stream",
     "text": [
      "smooth-or-featured-gz2 smooth-or-featured-gz2_featured-or-disk\n",
      "disk-edge-on-gz2 disk-edge-on-gz2_no\n",
      "has-spiral-arms-gz2 has-spiral-arms-gz2_yes\n",
      "bar-gz2 bar-gz2_no\n",
      "bulge-size-gz2 bulge-size-gz2_just-noticeable\n",
      "something-odd-gz2 something-odd-gz2_no\n",
      "how-rounded-gz2 -\n",
      "bulge-shape-gz2 -\n",
      "spiral-winding-gz2 spiral-winding-gz2_tight\n",
      "spiral-arm-count-gz2 unclear\n"
     ]
    }
   ],
   "source": [
    "galaxy = df.iloc[0]\n",
    "\n",
    "for question in schema.questions:\n",
    "    print(question.text, get_question_semantic_label(galaxy, question))"
   ]
  },
  {
   "cell_type": "code",
   "execution_count": 46,
   "metadata": {},
   "outputs": [],
   "source": [
    "sample = df.sample(5000)\n",
    "\n",
    "for question in schema.questions:\n",
    "    sample[question.text + '_semantic'] = sample.apply(lambda x: get_question_semantic_label(x, question, min_relevance_threshold=0.5, min_confidence_threshold=0.), axis=1)"
   ]
  },
  {
   "cell_type": "code",
   "execution_count": 47,
   "metadata": {},
   "outputs": [
    {
     "data": {
      "text/plain": [
       "smooth-or-featured-gz2_smooth how-rounded-gz2_in-between - - -                                        1844\n",
       "smooth-or-featured-gz2_smooth how-rounded-gz2_round - - -                                             1360\n",
       "smooth-or-featured-gz2_featured-or-disk - disk-edge-on-gz2_no has-spiral-arms-gz2_yes bar-gz2_no       659\n",
       "smooth-or-featured-gz2_smooth how-rounded-gz2_cigar - - -                                              449\n",
       "smooth-or-featured-gz2_featured-or-disk - disk-edge-on-gz2_no has-spiral-arms-gz2_yes bar-gz2_yes      239\n",
       "smooth-or-featured-gz2_featured-or-disk - disk-edge-on-gz2_no has-spiral-arms-gz2_no bar-gz2_no         81\n",
       "smooth-or-featured-gz2_featured-or-disk - disk-edge-on-gz2_yes deadlock deadlock                        59\n",
       "smooth-or-featured-gz2_featured-or-disk - disk-edge-on-gz2_no has-spiral-arms-gz2_no bar-gz2_yes        48\n",
       "smooth-or-featured-gz2_featured-or-disk - - - -                                                         42\n",
       "smooth-or-featured-gz2_featured-or-disk - disk-edge-on-gz2_yes has-spiral-arms-gz2_no bar-gz2_no        38\n",
       "smooth-or-featured-gz2_smooth - - - -                                                                   38\n",
       "deadlock - - - -                                                                                        34\n",
       "smooth-or-featured-gz2_smooth deadlock - - -                                                            29\n",
       "smooth-or-featured-gz2_featured-or-disk - disk-edge-on-gz2_yes has-spiral-arms-gz2_yes bar-gz2_no       15\n",
       "smooth-or-featured-gz2_featured-or-disk - disk-edge-on-gz2_yes has-spiral-arms-gz2_no bar-gz2_yes       14\n",
       "smooth-or-featured-gz2_featured-or-disk - disk-edge-on-gz2_no has-spiral-arms-gz2_yes deadlock          12\n",
       "smooth-or-featured-gz2_featured-or-disk - disk-edge-on-gz2_no deadlock bar-gz2_no                       10\n",
       "smooth-or-featured-gz2_featured-or-disk - disk-edge-on-gz2_yes has-spiral-arms-gz2_yes bar-gz2_yes       6\n",
       "smooth-or-featured-gz2_artifact - - - -                                                                  5\n",
       "smooth-or-featured-gz2_featured-or-disk - disk-edge-on-gz2_yes deadlock bar-gz2_no                       4\n",
       "Name: temp_semantic_label, dtype: int64"
      ]
     },
     "execution_count": 47,
     "metadata": {},
     "output_type": "execute_result"
    }
   ],
   "source": [
    "\n",
    "\n",
    "key_questions = ['smooth-or-featured-gz2', 'how-rounded-gz2', 'disk-edge-on-gz2', 'has-spiral-arms-gz2', 'bar-gz2']\n",
    "\n",
    "sample['temp_semantic_label'] = sample.apply(lambda galaxy: ' '.join(galaxy[[col + '_semantic' for col in key_questions]]), axis=1)\n",
    "\n",
    "sample['temp_semantic_label'].value_counts()[:20]\n",
    "\n",
    "# smooth-or-featured_smooth - - - - is possible because of artifact: one can be mode smooth, but have less have half answer smooth\n",
    "\n"
   ]
  },
  {
   "cell_type": "code",
   "execution_count": 48,
   "metadata": {},
   "outputs": [
    {
     "data": {
      "text/plain": [
       "smooth_inbetween                  1844\n",
       "smooth_round                      1360\n",
       "unbarred_spiral                    659\n",
       "smooth_cigar                       449\n",
       "barred_spiral                      239\n",
       "edge_on_disk                        94\n",
       "featured_without_bar_or_spiral      81\n",
       "Name: summary, dtype: int64"
      ]
     },
     "execution_count": 48,
     "metadata": {},
     "output_type": "execute_result"
    }
   ],
   "source": [
    "\n",
    "\n",
    "semantic_to_summary = {\n",
    "    'smooth-or-featured_smooth how-rounded_round - - -': 'smooth_round',\n",
    "    'smooth-or-featured_smooth how-rounded_in-between - - -': 'smooth_inbetween',\n",
    "    'smooth-or-featured_smooth how-rounded_cigar - - -': 'smooth_cigar',\n",
    "    'smooth-or-featured_featured-or-disk - disk-edge-on_no has-spiral-arms_yes bar_no': 'unbarred_spiral',\n",
    "    'smooth-or-featured_featured-or-disk - disk-edge-on_no has-spiral-arms_yes bar_yes': 'barred_spiral',\n",
    "    'smooth-or-featured_featured-or-disk - disk-edge-on_yes - -': 'edge_on_disk',\n",
    "    'smooth-or-featured_featured-or-disk - disk-edge-on_no has-spiral-arms_no bar_no': 'featured_without_bar_or_spiral',\n",
    "    # call all of these edge-on disk, regardless of further answers\n",
    "    'smooth-or-featured_featured-or-disk - disk-edge-on_yes deadlock deadlock': 'edge_on_disk',\n",
    "    'smooth-or-featured_featured-or-disk - disk-edge-on_yes has-spiral-arms_yes bar_no': 'edge_on_disk',\n",
    "    'smooth-or-featured_featured-or-disk - disk-edge-on_yes has-spiral-arms_yes bar_yes': 'edge_on_disk',\n",
    "    'smooth-or-featured_featured-or-disk - disk-edge-on_yes has-spiral-arms_yes bar_no': 'edge_on_disk',\n",
    "    'smooth-or-featured_featured-or-disk - disk-edge-on_yes has-spiral-arms_no bar_yes': 'edge_on_disk',\n",
    "}\n",
    "sample['summary'] = sample['temp_semantic_label'].apply(lambda x: semantic_to_summary.get(x.replace('-gz2', ''), None))\n",
    "\n",
    "sample['summary'].value_counts()\n",
    "\n"
   ]
  },
  {
   "cell_type": "markdown",
   "metadata": {},
   "source": [
    "### Apply to whole dataset (6 mins)"
   ]
  },
  {
   "cell_type": "code",
   "execution_count": 49,
   "metadata": {},
   "outputs": [],
   "source": [
    "# takes about 5 minutes for the full dataset\n",
    "for question in schema.questions:\n",
    "    df[question.text + '_semantic'] = df.apply(lambda x: get_question_semantic_label(x, question, min_relevance_threshold=0.5, min_confidence_threshold=0.), axis=1)"
   ]
  },
  {
   "cell_type": "code",
   "execution_count": 50,
   "metadata": {},
   "outputs": [
    {
     "data": {
      "text/plain": [
       "smooth-or-featured-gz2_smooth how-rounded-gz2_in-between - - -                                        78460\n",
       "smooth-or-featured-gz2_smooth how-rounded-gz2_round - - -                                             54997\n",
       "smooth-or-featured-gz2_featured-or-disk - disk-edge-on-gz2_no has-spiral-arms-gz2_yes bar-gz2_no      26132\n",
       "smooth-or-featured-gz2_smooth how-rounded-gz2_cigar - - -                                             19734\n",
       "smooth-or-featured-gz2_featured-or-disk - disk-edge-on-gz2_no has-spiral-arms-gz2_yes bar-gz2_yes      9246\n",
       "smooth-or-featured-gz2_featured-or-disk - disk-edge-on-gz2_no has-spiral-arms-gz2_no bar-gz2_no        4295\n",
       "smooth-or-featured-gz2_featured-or-disk - disk-edge-on-gz2_yes deadlock deadlock                       2753\n",
       "smooth-or-featured-gz2_featured-or-disk - disk-edge-on-gz2_no has-spiral-arms-gz2_no bar-gz2_yes       2073\n",
       "smooth-or-featured-gz2_smooth - - - -                                                                  1918\n",
       "smooth-or-featured-gz2_featured-or-disk - - - -                                                        1688\n",
       "smooth-or-featured-gz2_featured-or-disk - disk-edge-on-gz2_yes has-spiral-arms-gz2_no bar-gz2_no       1572\n",
       "smooth-or-featured-gz2_smooth deadlock - - -                                                           1429\n",
       "deadlock - - - -                                                                                       1367\n",
       "smooth-or-featured-gz2_featured-or-disk - disk-edge-on-gz2_yes has-spiral-arms-gz2_yes bar-gz2_no       979\n",
       "smooth-or-featured-gz2_featured-or-disk - disk-edge-on-gz2_yes has-spiral-arms-gz2_no bar-gz2_yes       629\n",
       "smooth-or-featured-gz2_featured-or-disk - disk-edge-on-gz2_no has-spiral-arms-gz2_yes deadlock          403\n",
       "smooth-or-featured-gz2_featured-or-disk - disk-edge-on-gz2_no deadlock bar-gz2_no                       386\n",
       "smooth-or-featured-gz2_featured-or-disk - disk-edge-on-gz2_yes has-spiral-arms-gz2_yes bar-gz2_yes      252\n",
       "smooth-or-featured-gz2_featured-or-disk - disk-edge-on-gz2_yes deadlock bar-gz2_no                      220\n",
       "smooth-or-featured-gz2_artifact - - - -                                                                 213\n",
       "Name: temp_semantic_label, dtype: int64"
      ]
     },
     "execution_count": 50,
     "metadata": {},
     "output_type": "execute_result"
    }
   ],
   "source": [
    "# takes about 35 seconds\n",
    "\n",
    "key_questions = ['smooth-or-featured-gz2', 'how-rounded-gz2', 'disk-edge-on-gz2', 'has-spiral-arms-gz2', 'bar-gz2']\n",
    "\n",
    "df['temp_semantic_label'] = df.apply(lambda galaxy: ' '.join(galaxy[[col + '_semantic' for col in key_questions]]), axis=1)\n",
    "\n",
    "df['temp_semantic_label'].value_counts()[:20]"
   ]
  },
  {
   "cell_type": "code",
   "execution_count": 51,
   "metadata": {},
   "outputs": [
    {
     "data": {
      "text/plain": [
       "smooth_inbetween                  78460\n",
       "smooth_round                      54997\n",
       "unbarred_spiral                   26132\n",
       "smooth_cigar                      19734\n",
       "barred_spiral                      9246\n",
       "edge_on_disk                       4613\n",
       "featured_without_bar_or_spiral     4295\n",
       "Name: summary, dtype: int64"
      ]
     },
     "execution_count": 51,
     "metadata": {},
     "output_type": "execute_result"
    }
   ],
   "source": [
    "df['summary'] = df['temp_semantic_label'].apply(lambda x: semantic_to_summary.get(x.replace('-gz2', ''), None))\n",
    "\n",
    "df['summary'].value_counts()\n"
   ]
  },
  {
   "cell_type": "code",
   "execution_count": 52,
   "metadata": {},
   "outputs": [
    {
     "data": {
      "text/html": [
       "<div>\n",
       "<style scoped>\n",
       "    .dataframe tbody tr th:only-of-type {\n",
       "        vertical-align: middle;\n",
       "    }\n",
       "\n",
       "    .dataframe tbody tr th {\n",
       "        vertical-align: top;\n",
       "    }\n",
       "\n",
       "    .dataframe thead th {\n",
       "        text-align: right;\n",
       "    }\n",
       "</style>\n",
       "<table border=\"1\" class=\"dataframe\">\n",
       "  <thead>\n",
       "    <tr style=\"text-align: right;\">\n",
       "      <th></th>\n",
       "      <th>summary</th>\n",
       "      <th>leaf_prob</th>\n",
       "    </tr>\n",
       "  </thead>\n",
       "  <tbody>\n",
       "    <tr>\n",
       "      <th>0</th>\n",
       "      <td>unbarred_spiral</td>\n",
       "      <td>0.866667</td>\n",
       "    </tr>\n",
       "    <tr>\n",
       "      <th>1</th>\n",
       "      <td>unbarred_spiral</td>\n",
       "      <td>0.880952</td>\n",
       "    </tr>\n",
       "    <tr>\n",
       "      <th>2</th>\n",
       "      <td>smooth_inbetween</td>\n",
       "      <td>0.638889</td>\n",
       "    </tr>\n",
       "    <tr>\n",
       "      <th>3</th>\n",
       "      <td>unbarred_spiral</td>\n",
       "      <td>0.858516</td>\n",
       "    </tr>\n",
       "    <tr>\n",
       "      <th>4</th>\n",
       "      <td>smooth_round</td>\n",
       "      <td>0.418605</td>\n",
       "    </tr>\n",
       "    <tr>\n",
       "      <th>...</th>\n",
       "      <td>...</td>\n",
       "      <td>...</td>\n",
       "    </tr>\n",
       "    <tr>\n",
       "      <th>209288</th>\n",
       "      <td>smooth_cigar</td>\n",
       "      <td>0.700000</td>\n",
       "    </tr>\n",
       "    <tr>\n",
       "      <th>209289</th>\n",
       "      <td>smooth_round</td>\n",
       "      <td>0.428571</td>\n",
       "    </tr>\n",
       "    <tr>\n",
       "      <th>209290</th>\n",
       "      <td>smooth_round</td>\n",
       "      <td>0.500000</td>\n",
       "    </tr>\n",
       "    <tr>\n",
       "      <th>209291</th>\n",
       "      <td>smooth_inbetween</td>\n",
       "      <td>0.700000</td>\n",
       "    </tr>\n",
       "    <tr>\n",
       "      <th>209292</th>\n",
       "      <td>smooth_cigar</td>\n",
       "      <td>0.690476</td>\n",
       "    </tr>\n",
       "  </tbody>\n",
       "</table>\n",
       "<p>209293 rows × 2 columns</p>\n",
       "</div>"
      ],
      "text/plain": [
       "                 summary  leaf_prob\n",
       "0        unbarred_spiral   0.866667\n",
       "1        unbarred_spiral   0.880952\n",
       "2       smooth_inbetween   0.638889\n",
       "3        unbarred_spiral   0.858516\n",
       "4           smooth_round   0.418605\n",
       "...                  ...        ...\n",
       "209288      smooth_cigar   0.700000\n",
       "209289      smooth_round   0.428571\n",
       "209290      smooth_round   0.500000\n",
       "209291  smooth_inbetween   0.700000\n",
       "209292      smooth_cigar   0.690476\n",
       "\n",
       "[209293 rows x 2 columns]"
      ]
     },
     "execution_count": 52,
     "metadata": {},
     "output_type": "execute_result"
    }
   ],
   "source": [
    "# leaf probability\n",
    "\n",
    "# could do this programatically, but can code up manually pretty easily\n",
    "\n",
    "leaf_prob_cols_to_multiply = {\n",
    "    'smooth_inbetween': ['smooth-or-featured-gz2_smooth_fraction', 'how-rounded-gz2_in-between_fraction'],\n",
    "    'smooth_round': ['smooth-or-featured-gz2_smooth_fraction', 'how-rounded-gz2_round_fraction'],\n",
    "    'smooth_cigar': ['smooth-or-featured-gz2_smooth_fraction', 'how-rounded-gz2_cigar_fraction'],\n",
    "    'edge_on_disk': ['smooth-or-featured-gz2_featured-or-disk_fraction', 'disk-edge-on-gz2_yes_fraction'],\n",
    "    'unbarred_spiral': ['smooth-or-featured-gz2_featured-or-disk_fraction', 'disk-edge-on-gz2_no_fraction', 'has-spiral-arms-gz2_yes_fraction', 'bar-gz2_no_fraction'],\n",
    "    'barred_spiral': ['smooth-or-featured-gz2_featured-or-disk_fraction', 'disk-edge-on-gz2_no_fraction', 'has-spiral-arms-gz2_yes_fraction', 'bar-gz2_yes_fraction'],\n",
    "    'featured_without_bar_or_spiral': ['smooth-or-featured-gz2_featured-or-disk_fraction', 'disk-edge-on-gz2_no_fraction', 'has-spiral-arms-gz2_no_fraction', 'bar-gz2_no_fraction'],\n",
    "    None: []\n",
    "}\n",
    "\n",
    "def get_leaf_prob(galaxy):\n",
    "    cols_to_multiply = leaf_prob_cols_to_multiply[galaxy['summary']]\n",
    "    return np.prod(galaxy[cols_to_multiply])  # np.prod(galaxy[[]])  # defaults to 1\n",
    "\n",
    "df['leaf_prob'] = df.apply(get_leaf_prob, axis=1)\n",
    "\n",
    "df[['summary', 'leaf_prob']]\n",
    "\n"
   ]
  },
  {
   "cell_type": "code",
   "execution_count": 53,
   "metadata": {},
   "outputs": [
    {
     "data": {
      "text/plain": [
       "(array([  452.,  3191.,  9243., 19101., 33697., 36538., 36881., 35392.,\n",
       "        20208., 14590.]),\n",
       " array([0.08990011, 0.1809101 , 0.27192009, 0.36293008, 0.45394007,\n",
       "        0.54495006, 0.63596004, 0.72697003, 0.81798002, 0.90899001,\n",
       "        1.        ]),\n",
       " <BarContainer object of 10 artists>)"
      ]
     },
     "execution_count": 53,
     "metadata": {},
     "output_type": "execute_result"
    },
    {
     "data": {
      "image/png": "[encoded data removed]",
      "text/plain": [
       "<Figure size 640x480 with 1 Axes>"
      ]
     },
     "metadata": {},
     "output_type": "display_data"
    }
   ],
   "source": [
    "plt.hist(df['leaf_prob'])"
   ]
  },
  {
   "cell_type": "code",
   "execution_count": 54,
   "metadata": {},
   "outputs": [
    {
     "data": {
      "text/plain": [
       "<AxesSubplot: xlabel='leaf_prob', ylabel='Density'>"
      ]
     },
     "execution_count": 54,
     "metadata": {},
     "output_type": "execute_result"
    },
    {
     "data": {
      "image/png": "[encoded data removed]",
      "text/plain": [
       "<Figure size 1200x800 with 1 Axes>"
      ]
     },
     "metadata": {},
     "output_type": "display_data"
    }
   ],
   "source": [
    "fig, ax = plt.subplots(figsize=(12, 8))\n",
    "sns.histplot(data=df, hue='summary', x='leaf_prob', ax=ax, stat='density', common_norm=False, common_bins=True)"
   ]
  },
  {
   "cell_type": "code",
   "execution_count": 55,
   "metadata": {},
   "outputs": [
    {
     "data": {
      "image/png": "[encoded data removed]",
      "text/plain": [
       "<Figure size 800x1200 with 7 Axes>"
      ]
     },
     "metadata": {},
     "output_type": "display_data"
    }
   ],
   "source": [
    "fig, axes = plt.subplots(figsize=(8, 12), nrows=7, sharex=True, sharey=True)\n",
    "_, bins = np.histogram(np.linspace(0., 1.), bins=20)\n",
    "\n",
    "for leaf_n, leaf in enumerate(df['summary'].dropna().unique()):\n",
    "    \n",
    "    ax = axes[leaf_n]\n",
    "\n",
    "    leaf_probs = df.query(f'summary == \"{leaf}\"')['leaf_prob']\n",
    "    ax.hist(leaf_probs, bins=bins, density=True)\n",
    "\n",
    "    ax.set_title(leaf)\n",
    "\n",
    "fig.tight_layout()"
   ]
  },
  {
   "cell_type": "code",
   "execution_count": 56,
   "metadata": {},
   "outputs": [
    {
     "data": {
      "text/plain": [
       " 0    78460\n",
       " 1    54997\n",
       " 4    26132\n",
       " 2    19734\n",
       "-1    11816\n",
       " 5     9246\n",
       " 3     4613\n",
       " 6     4295\n",
       "Name: label, dtype: int64"
      ]
     },
     "execution_count": 56,
     "metadata": {},
     "output_type": "execute_result"
    }
   ],
   "source": [
    "\n",
    "\n",
    "summary_to_class_index = {\n",
    "    'smooth_inbetween': 0,\n",
    "    'smooth_round': 1,\n",
    "    'smooth_cigar': 2,\n",
    "    'edge_on_disk': 3,\n",
    "    'unbarred_spiral': 4,\n",
    "    'barred_spiral': 5,\n",
    "    'featured_without_bar_or_spiral': 6\n",
    "}\n",
    "\n",
    "df['label'] = df['summary'].apply(lambda x: summary_to_class_index.get(x, -1)).astype(int)  # be sure to drop -1's. Keeping here for dtype (nan is float)\n",
    "\n",
    "df['label'].value_counts()"
   ]
  },
  {
   "cell_type": "code",
   "execution_count": 57,
   "metadata": {},
   "outputs": [
    {
     "data": {
      "text/plain": [
       "array(['dr7objid', 'png_loc', 'ra', 'dec',\n",
       "       'smooth-or-featured-gz2_smooth',\n",
       "       'smooth-or-featured-gz2_featured-or-disk',\n",
       "       'smooth-or-featured-gz2_artifact', 'disk-edge-on-gz2_yes',\n",
       "       'disk-edge-on-gz2_no', 'bar-gz2_yes', 'bar-gz2_no',\n",
       "       'has-spiral-arms-gz2_yes', 'has-spiral-arms-gz2_no',\n",
       "       'bulge-size-gz2_no', 'bulge-size-gz2_just-noticeable',\n",
       "       'bulge-size-gz2_obvious', 'bulge-size-gz2_dominant',\n",
       "       'something-odd-gz2_yes', 'something-odd-gz2_no',\n",
       "       'how-rounded-gz2_round', 'how-rounded-gz2_in-between',\n",
       "       'how-rounded-gz2_cigar', 'bulge-shape-gz2_round',\n",
       "       'bulge-shape-gz2_boxy', 'bulge-shape-gz2_no-bulge',\n",
       "       'spiral-winding-gz2_tight', 'spiral-winding-gz2_medium',\n",
       "       'spiral-winding-gz2_loose', 'spiral-arm-count-gz2_1',\n",
       "       'spiral-arm-count-gz2_2', 'spiral-arm-count-gz2_3',\n",
       "       'spiral-arm-count-gz2_4', 'spiral-arm-count-gz2_more-than-4',\n",
       "       'spiral-arm-count-gz2_cant-tell',\n",
       "       'smooth-or-featured-gz2_total-votes',\n",
       "       'smooth-or-featured-gz2_smooth_fraction',\n",
       "       'smooth-or-featured-gz2_featured-or-disk_fraction',\n",
       "       'smooth-or-featured-gz2_artifact_fraction',\n",
       "       'disk-edge-on-gz2_total-votes', 'disk-edge-on-gz2_yes_fraction',\n",
       "       'disk-edge-on-gz2_no_fraction', 'has-spiral-arms-gz2_total-votes',\n",
       "       'has-spiral-arms-gz2_yes_fraction',\n",
       "       'has-spiral-arms-gz2_no_fraction', 'bar-gz2_total-votes',\n",
       "       'bar-gz2_yes_fraction', 'bar-gz2_no_fraction',\n",
       "       'bulge-size-gz2_total-votes', 'bulge-size-gz2_dominant_fraction',\n",
       "       'bulge-size-gz2_obvious_fraction',\n",
       "       'bulge-size-gz2_just-noticeable_fraction',\n",
       "       'bulge-size-gz2_no_fraction', 'something-odd-gz2_total-votes',\n",
       "       'something-odd-gz2_yes_fraction', 'something-odd-gz2_no_fraction',\n",
       "       'how-rounded-gz2_total-votes', 'how-rounded-gz2_round_fraction',\n",
       "       'how-rounded-gz2_in-between_fraction',\n",
       "       'how-rounded-gz2_cigar_fraction', 'bulge-shape-gz2_total-votes',\n",
       "       'bulge-shape-gz2_round_fraction', 'bulge-shape-gz2_boxy_fraction',\n",
       "       'bulge-shape-gz2_no-bulge_fraction',\n",
       "       'spiral-winding-gz2_total-votes',\n",
       "       'spiral-winding-gz2_tight_fraction',\n",
       "       'spiral-winding-gz2_medium_fraction',\n",
       "       'spiral-winding-gz2_loose_fraction',\n",
       "       'spiral-arm-count-gz2_total-votes',\n",
       "       'spiral-arm-count-gz2_1_fraction',\n",
       "       'spiral-arm-count-gz2_2_fraction',\n",
       "       'spiral-arm-count-gz2_3_fraction',\n",
       "       'spiral-arm-count-gz2_4_fraction',\n",
       "       'spiral-arm-count-gz2_more-than-4_fraction',\n",
       "       'spiral-arm-count-gz2_cant-tell_fraction', 'file_loc', 'subfolder',\n",
       "       'file_exists', 'best_match', 'sky_separation', 'iauname',\n",
       "       'smooth-or-featured-gz2_semantic', 'disk-edge-on-gz2_semantic',\n",
       "       'has-spiral-arms-gz2_semantic', 'bar-gz2_semantic',\n",
       "       'bulge-size-gz2_semantic', 'something-odd-gz2_semantic',\n",
       "       'how-rounded-gz2_semantic', 'bulge-shape-gz2_semantic',\n",
       "       'spiral-winding-gz2_semantic', 'spiral-arm-count-gz2_semantic',\n",
       "       'temp_semantic_label', 'summary', 'leaf_prob', 'label'],\n",
       "      dtype=object)"
      ]
     },
     "execution_count": 57,
     "metadata": {},
     "output_type": "execute_result"
    }
   ],
   "source": [
    "df.columns.values"
   ]
  },
  {
   "cell_type": "code",
   "execution_count": 58,
   "metadata": {},
   "outputs": [],
   "source": [
    "df.to_parquet('/home/walml/repos/galaxy-datasets/roots/gz2/gz2_with_leafs.parquet', index=False)"
   ]
  },
  {
   "cell_type": "markdown",
   "metadata": {},
   "source": [
    "You can see how changing curation will change the class balance: first will drop misc-featured, then spirals, then smooth-cigar, then the rest"
   ]
  },
  {
   "cell_type": "markdown",
   "metadata": {},
   "source": []
  }
 ],
 "metadata": {
  "kernelspec": {
   "display_name": "zoobot",
   "language": "python",
   "name": "python3"
  },
  "language_info": {
   "codemirror_mode": {
    "name": "ipython",
    "version": 3
   },
   "file_extension": ".py",
   "mimetype": "text/x-python",
   "name": "python",
   "nbconvert_exporter": "python",
   "pygments_lexer": "ipython3",
   "version": "3.8.0"
  },
  "orig_nbformat": 4,
  "vscode": {
   "interpreter": {
    "hash": "bd3647569e49d48fa5822e6521f6e70d75d673e092d7157d5bb23a9c666da2e5"
   }
  }
 },
 "nbformat": 4,
 "nbformat_minor": 2
}
