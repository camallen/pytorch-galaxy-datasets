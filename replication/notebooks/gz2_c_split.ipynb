{
 "cells": [
  {
   "cell_type": "code",
   "execution_count": 6,
   "metadata": {},
   "outputs": [],
   "source": [
    "import os\n",
    "import pandas as pd\n",
    "import numpy as np\n",
    "\n",
    "from sklearn.model_selection import train_test_split"
   ]
  },
  {
   "cell_type": "code",
   "execution_count": 2,
   "metadata": {},
   "outputs": [],
   "source": [
    "df = pd.read_parquet('/home/walml/repos/galaxy-datasets/roots/gz2/gz2_with_leafs.parquet')"
   ]
  },
  {
   "cell_type": "code",
   "execution_count": 3,
   "metadata": {},
   "outputs": [
    {
     "data": {
      "text/plain": [
       "0         587732\n",
       "1         588009\n",
       "2         587732\n",
       "3         587741\n",
       "4         587738\n",
       "           ...  \n",
       "209288    587739\n",
       "209289    587742\n",
       "209290    587729\n",
       "209291    587734\n",
       "209292    587741\n",
       "Name: subfolder, Length: 209293, dtype: object"
      ]
     },
     "execution_count": 3,
     "metadata": {},
     "output_type": "execute_result"
    }
   ],
   "source": [
    "df['subfolder']"
   ]
  },
  {
   "cell_type": "code",
   "execution_count": 5,
   "metadata": {},
   "outputs": [],
   "source": [
    "df['filename'] = df['file_loc'].apply(os.path.basename)"
   ]
  },
  {
   "cell_type": "code",
   "execution_count": 7,
   "metadata": {},
   "outputs": [],
   "source": [
    "assert 'iauname' in df.columns.values  # from nsa crossmatch in notebook a\n",
    "assert 'summary' in df.columns.values  # derived class label from notebook b"
   ]
  },
  {
   "cell_type": "code",
   "execution_count": 8,
   "metadata": {},
   "outputs": [
    {
     "data": {
      "text/plain": [
       " 0    78460\n",
       " 1    54997\n",
       " 4    26132\n",
       " 2    19734\n",
       "-1    11816\n",
       " 5     9246\n",
       " 3     4613\n",
       " 6     4295\n",
       "Name: label, dtype: int64"
      ]
     },
     "execution_count": 8,
     "metadata": {},
     "output_type": "execute_result"
    }
   ],
   "source": [
    "df['label'].value_counts()  # -1 if could not be assigned to leaf -but not dropped"
   ]
  },
  {
   "cell_type": "code",
   "execution_count": 9,
   "metadata": {},
   "outputs": [],
   "source": [
    "df['id_str'] = df['dr7objid']  # note - not iauname\n",
    "del df['dr7objid']\n",
    "del df['png_loc']\n",
    "del df['best_match']\n",
    "del df['sky_separation']\n",
    "del df['temp_semantic_label']\n",
    "del df['file_exists']"
   ]
  },
  {
   "cell_type": "code",
   "execution_count": 10,
   "metadata": {},
   "outputs": [
    {
     "data": {
      "text/plain": [
       "0         /home/walml/repos/galaxy-datasets/roots/gz2/jp...\n",
       "1         /home/walml/repos/galaxy-datasets/roots/gz2/jp...\n",
       "2         /home/walml/repos/galaxy-datasets/roots/gz2/jp...\n",
       "3         /home/walml/repos/galaxy-datasets/roots/gz2/jp...\n",
       "4         /home/walml/repos/galaxy-datasets/roots/gz2/jp...\n",
       "                                ...                        \n",
       "209288    /home/walml/repos/galaxy-datasets/roots/gz2/jp...\n",
       "209289    /home/walml/repos/galaxy-datasets/roots/gz2/jp...\n",
       "209290    /home/walml/repos/galaxy-datasets/roots/gz2/jp...\n",
       "209291    /home/walml/repos/galaxy-datasets/roots/gz2/jp...\n",
       "209292    /home/walml/repos/galaxy-datasets/roots/gz2/jp...\n",
       "Name: file_loc, Length: 209293, dtype: object"
      ]
     },
     "execution_count": 10,
     "metadata": {},
     "output_type": "execute_result"
    }
   ],
   "source": [
    "df['file_loc']"
   ]
  },
  {
   "cell_type": "code",
   "execution_count": 11,
   "metadata": {},
   "outputs": [],
   "source": [
    "# bad_format = df[~df['is_formatted_well']]\n",
    "# bad_format['id_str']"
   ]
  },
  {
   "cell_type": "code",
   "execution_count": 12,
   "metadata": {},
   "outputs": [],
   "source": [
    "\n",
    "# bad_format['png_loc'] = bad_format['file_loc'].str.replace('/home/walml/repos/galaxy-datasets/roots', '/run/media/walml/beta/galaxy_zoo').str.replace('jpg', 'png')\n",
    "\n",
    "# bad_format['png_loc'].apply(lambda x: is_formatted_well(x, careful=True))\n",
    "\n",
    "# im = Image.open(bad_format['png_loc'].iloc[0])\n",
    "\n",
    "# import matplotlib.pyplot as plt\n",
    "# plt.imshow(im)\n",
    "# plt.show()\n",
    "\n",
    "# # these are not properly formatted jpg (found with the code below)\n",
    "# df = df[df['id_str'] != 588010359085465702]  \n",
    "# df = df[df['id_str'] != 587733079202463896]\n",
    "# df = df[df['id_str'] != 587738574069432608]\n",
    "# df = df[df['id_str'] != 588010879308660900]"
   ]
  },
  {
   "cell_type": "code",
   "execution_count": 13,
   "metadata": {},
   "outputs": [
    {
     "data": {
      "text/plain": [
       "array(['ra', 'dec', 'smooth-or-featured-gz2_smooth',\n",
       "       'smooth-or-featured-gz2_featured-or-disk',\n",
       "       'smooth-or-featured-gz2_artifact', 'disk-edge-on-gz2_yes',\n",
       "       'disk-edge-on-gz2_no', 'bar-gz2_yes', 'bar-gz2_no',\n",
       "       'has-spiral-arms-gz2_yes', 'has-spiral-arms-gz2_no',\n",
       "       'bulge-size-gz2_no', 'bulge-size-gz2_just-noticeable',\n",
       "       'bulge-size-gz2_obvious', 'bulge-size-gz2_dominant',\n",
       "       'something-odd-gz2_yes', 'something-odd-gz2_no',\n",
       "       'how-rounded-gz2_round', 'how-rounded-gz2_in-between',\n",
       "       'how-rounded-gz2_cigar', 'bulge-shape-gz2_round',\n",
       "       'bulge-shape-gz2_boxy', 'bulge-shape-gz2_no-bulge',\n",
       "       'spiral-winding-gz2_tight', 'spiral-winding-gz2_medium',\n",
       "       'spiral-winding-gz2_loose', 'spiral-arm-count-gz2_1',\n",
       "       'spiral-arm-count-gz2_2', 'spiral-arm-count-gz2_3',\n",
       "       'spiral-arm-count-gz2_4', 'spiral-arm-count-gz2_more-than-4',\n",
       "       'spiral-arm-count-gz2_cant-tell',\n",
       "       'smooth-or-featured-gz2_total-votes',\n",
       "       'smooth-or-featured-gz2_smooth_fraction',\n",
       "       'smooth-or-featured-gz2_featured-or-disk_fraction',\n",
       "       'smooth-or-featured-gz2_artifact_fraction',\n",
       "       'disk-edge-on-gz2_total-votes', 'disk-edge-on-gz2_yes_fraction',\n",
       "       'disk-edge-on-gz2_no_fraction', 'has-spiral-arms-gz2_total-votes',\n",
       "       'has-spiral-arms-gz2_yes_fraction',\n",
       "       'has-spiral-arms-gz2_no_fraction', 'bar-gz2_total-votes',\n",
       "       'bar-gz2_yes_fraction', 'bar-gz2_no_fraction',\n",
       "       'bulge-size-gz2_total-votes', 'bulge-size-gz2_dominant_fraction',\n",
       "       'bulge-size-gz2_obvious_fraction',\n",
       "       'bulge-size-gz2_just-noticeable_fraction',\n",
       "       'bulge-size-gz2_no_fraction', 'something-odd-gz2_total-votes',\n",
       "       'something-odd-gz2_yes_fraction', 'something-odd-gz2_no_fraction',\n",
       "       'how-rounded-gz2_total-votes', 'how-rounded-gz2_round_fraction',\n",
       "       'how-rounded-gz2_in-between_fraction',\n",
       "       'how-rounded-gz2_cigar_fraction', 'bulge-shape-gz2_total-votes',\n",
       "       'bulge-shape-gz2_round_fraction', 'bulge-shape-gz2_boxy_fraction',\n",
       "       'bulge-shape-gz2_no-bulge_fraction',\n",
       "       'spiral-winding-gz2_total-votes',\n",
       "       'spiral-winding-gz2_tight_fraction',\n",
       "       'spiral-winding-gz2_medium_fraction',\n",
       "       'spiral-winding-gz2_loose_fraction',\n",
       "       'spiral-arm-count-gz2_total-votes',\n",
       "       'spiral-arm-count-gz2_1_fraction',\n",
       "       'spiral-arm-count-gz2_2_fraction',\n",
       "       'spiral-arm-count-gz2_3_fraction',\n",
       "       'spiral-arm-count-gz2_4_fraction',\n",
       "       'spiral-arm-count-gz2_more-than-4_fraction',\n",
       "       'spiral-arm-count-gz2_cant-tell_fraction', 'file_loc', 'subfolder',\n",
       "       'iauname', 'smooth-or-featured-gz2_semantic',\n",
       "       'disk-edge-on-gz2_semantic', 'has-spiral-arms-gz2_semantic',\n",
       "       'bar-gz2_semantic', 'bulge-size-gz2_semantic',\n",
       "       'something-odd-gz2_semantic', 'how-rounded-gz2_semantic',\n",
       "       'bulge-shape-gz2_semantic', 'spiral-winding-gz2_semantic',\n",
       "       'spiral-arm-count-gz2_semantic', 'summary', 'leaf_prob', 'label',\n",
       "       'filename', 'id_str'], dtype=object)"
      ]
     },
     "execution_count": 13,
     "metadata": {},
     "output_type": "execute_result"
    }
   ],
   "source": [
    "df.columns.values"
   ]
  },
  {
   "cell_type": "code",
   "execution_count": 14,
   "metadata": {},
   "outputs": [],
   "source": [
    "train_catalog_loc = '/home/walml/repos/galaxy-datasets/roots/gz2/gz2_train_catalog.parquet'\n",
    "test_catalog_loc = '/home/walml/repos/galaxy-datasets/roots/gz2/gz2_test_catalog.parquet'\n",
    "\n",
    "images_loc = '/nvme1/scratch/walml/repos/galaxy-datasets/roots/gz2/images_gz2.tar.gz'"
   ]
  },
  {
   "cell_type": "code",
   "execution_count": 15,
   "metadata": {},
   "outputs": [],
   "source": [
    "train_catalog, test_catalog = train_test_split(df, test_size=0.2, random_state=42)\n",
    "\n",
    "train_catalog.to_parquet(train_catalog_loc, index=False)\n",
    "test_catalog.to_parquet(test_catalog_loc, index=False)"
   ]
  },
  {
   "cell_type": "code",
   "execution_count": 16,
   "metadata": {},
   "outputs": [
    {
     "name": "stdout",
     "output_type": "stream",
     "text": [
      "d5507a9332c75fd84a7f2562567da36b\n",
      "ac1fba88d0e8a95ee4f4eef79ea03063\n",
      "e3eab2fec57a6a60577236b9e0a6913d\n"
     ]
    }
   ],
   "source": [
    "import hashlib\n",
    "\n",
    "for loc in [\n",
    "    train_catalog_loc,\n",
    "    test_catalog_loc,\n",
    "    images_loc  # compressed from images above, takes 5 secs\n",
    "]:\n",
    "    # print hash\n",
    "    with open(loc, 'rb') as f:\n",
    "        md5_checksum = hashlib.md5(f.read()).hexdigest()\n",
    "\n",
    "    print(md5_checksum)"
   ]
  },
  {
   "cell_type": "code",
   "execution_count": null,
   "metadata": {},
   "outputs": [],
   "source": []
  }
 ],
 "metadata": {
  "interpreter": {
   "hash": "5ec7511d1fc7a72aba078c8815c4bcacd5404aac7a6282065ad4abec249876bb"
  },
  "kernelspec": {
   "display_name": "Python 3.7.11 ('zoobot')",
   "language": "python",
   "name": "python3"
  },
  "language_info": {
   "codemirror_mode": {
    "name": "ipython",
    "version": 3
   },
   "file_extension": ".py",
   "mimetype": "text/x-python",
   "name": "python",
   "nbconvert_exporter": "python",
   "pygments_lexer": "ipython3",
   "version": "3.8.0"
  },
  "orig_nbformat": 4
 },
 "nbformat": 4,
 "nbformat_minor": 2
}
